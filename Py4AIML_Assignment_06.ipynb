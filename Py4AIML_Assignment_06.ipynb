{
  "nbformat": 4,
  "nbformat_minor": 0,
  "metadata": {
    "colab": {
      "name": "Py4AIML Assignment 06.ipynb",
      "provenance": [],
      "private_outputs": true,
      "collapsed_sections": []
    },
    "kernelspec": {
      "name": "python3",
      "display_name": "Python 3"
    }
  },
  "cells": [
    {
      "cell_type": "markdown",
      "metadata": {
        "id": "bOdqSM9s6ad8",
        "colab_type": "text"
      },
      "source": [
        "## Sales Prediction Using Linear Regression"
      ]
    },
    {
      "cell_type": "markdown",
      "metadata": {
        "id": "CpGR6lfo6yDb",
        "colab_type": "text"
      },
      "source": [
        "### Problem Statement:\n",
        "Build a model which predicts sales based on the money spent on different platforms for marketing."
      ]
    },
    {
      "cell_type": "code",
      "metadata": {
        "id": "QNcZfziI7gnC",
        "colab_type": "code",
        "colab": {}
      },
      "source": [
        "# Run the cell to download the data\n",
        "# you can also take any other dateset of your own and try\n",
        "!wget https://cdn.talentsprint.com/aiml/PY4AIML/advertising.csv"
      ],
      "execution_count": null,
      "outputs": []
    },
    {
      "cell_type": "markdown",
      "metadata": {
        "id": "TH_O7_sW7Cuu",
        "colab_type": "text"
      },
      "source": [
        "### Exercise 1: Load and understand the data"
      ]
    },
    {
      "cell_type": "code",
      "metadata": {
        "id": "0FPFinQL6TVJ",
        "colab_type": "code",
        "colab": {}
      },
      "source": [
        "import pandas as pd\n",
        "df=pd.read_csv(\"advertising.csv\")\n",
        "df.head()\n"
      ],
      "execution_count": null,
      "outputs": []
    },
    {
      "cell_type": "markdown",
      "metadata": {
        "id": "390Id2CC7VMC",
        "colab_type": "text"
      },
      "source": [
        "### Exercise 2: Describe the data and check for the null values(if any)"
      ]
    },
    {
      "cell_type": "code",
      "metadata": {
        "id": "nbrbdOkt7Y6P",
        "colab_type": "code",
        "colab": {}
      },
      "source": [
        "print(df.isnull().sum())\n",
        "print(df.describe())\n",
        "x=df.drop([\"Sales\"],axis=1)\n",
        "y=df[\"Sales\"]\n",
        "z=x.columns"
      ],
      "execution_count": null,
      "outputs": []
    },
    {
      "cell_type": "markdown",
      "metadata": {
        "id": "O_g9yUuk8NGc",
        "colab_type": "text"
      },
      "source": [
        "### Exercise 3: Split the data into train and test set"
      ]
    },
    {
      "cell_type": "code",
      "metadata": {
        "id": "TskqqRB48Vsf",
        "colab_type": "code",
        "colab": {}
      },
      "source": [
        "from sklearn.model_selection import train_test_split\n",
        "x_train,x_test,y_train,y_test=train_test_split(x,y,test_size=0.3)\n",
        "for size in [x_train,x_test,y_train,y_test]:\n",
        "  print(size.shape)"
      ],
      "execution_count": null,
      "outputs": []
    },
    {
      "cell_type": "markdown",
      "metadata": {
        "id": "QRlNUQ-18YPd",
        "colab_type": "text"
      },
      "source": [
        "### Exercise 4: Visualize the train and test data"
      ]
    },
    {
      "cell_type": "code",
      "metadata": {
        "id": "5lHIRMjx8dKz",
        "colab_type": "code",
        "colab": {}
      },
      "source": [
        "import matplotlib.pyplot as plt\n",
        "for i in z:\n",
        "  plt.scatter(x_train[i],y_train,color='blue')\n",
        "  plt.show()\n",
        "  plt.scatter(x_test[i],y_test,color='blue')\n",
        "  plt.show()"
      ],
      "execution_count": null,
      "outputs": []
    },
    {
      "cell_type": "markdown",
      "metadata": {
        "id": "R4LoSc2w8kpm",
        "colab_type": "text"
      },
      "source": [
        "### Exercise 5: Apply the Linear Regression Model"
      ]
    },
    {
      "cell_type": "code",
      "metadata": {
        "id": "cQ9UE4d_8rBl",
        "colab_type": "code",
        "colab": {}
      },
      "source": [
        "from sklearn.linear_model import LinearRegression\n",
        "model=LinearRegression()\n",
        "model.fit(x_train,y_train)\n",
        "print(model.coef_)\n",
        "print(model.intercept_)\n",
        "y_pred=model.predict(x_test)\n",
        "df1=pd.DataFrame({'Actual':y_test,'prediction':y_pred})\n",
        "print(df1.head())"
      ],
      "execution_count": null,
      "outputs": []
    },
    {
      "cell_type": "markdown",
      "metadata": {
        "id": "cs_wZiWX82Oi",
        "colab_type": "text"
      },
      "source": [
        "### Exercise 6: Calculate the RMSE value of the model"
      ]
    },
    {
      "cell_type": "code",
      "metadata": {
        "id": "X1ZH9UVi89hU",
        "colab_type": "code",
        "colab": {}
      },
      "source": [
        "from sklearn import metrics\n",
        "import numpy as np\n",
        "import math\n",
        "print(\"Mean Absolute error:\",metrics.mean_absolute_error(y_test,y_pred))\n",
        "print(\"mean squared error:\",metrics.mean_squared_error(y_test,y_pred))\n",
        "print(\"Root Mean Squared Error:\",np.sqrt(metrics.mean_squared_error(y_test,y_pred)))"
      ],
      "execution_count": null,
      "outputs": []
    }
  ]
}